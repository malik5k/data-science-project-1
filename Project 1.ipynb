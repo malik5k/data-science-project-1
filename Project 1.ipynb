{
 "cells": [
  {
   "cell_type": "markdown",
   "metadata": {
    "colab_type": "text",
    "id": "nKLoh2OVHFaN"
   },
   "source": [
    "<div style=\"direction:rtl; text-align:right\">\n",
    "\n",
    "# المشروع الأول: قصة التايتانك بعيون علم البيانات"
   ]
  },
  {
   "cell_type": "markdown",
   "metadata": {
    "colab_type": "text",
    "id": "a6XY7SXkHFaS"
   },
   "source": [
    "<div style=\"direction:rtl; text-align:right\">\n",
    "أهلاً بكم في المشروع الأول من علم البيانات. في هذا المشروع، سنكتشف سوية قصة التايتانك ولكن من خلال البيانات. يهدف هذا المشروع إلى التعريف بأهم خطوات تحليل البيانات واستكشاف المراحل المختلفة. سنستخدم بيانات الناجين من سفينة التايتنك والموجودة في موقع كاقل على الرابط التالي: https://www.kaggle.com/c/titanic"
   ]
  },
  {
   "cell_type": "markdown",
   "metadata": {},
   "source": [
    "<div style=\"direction:rtl; text-align:right\">\n",
    "الهدف الأساسي من هذا المشروع هو استخدام هذه البيانات لفهم من هم الناجين من كارثة التايتانك؟ هل الناجين يمثلون عينة عشوائية أم أنهم من طبقات معينة؟ وكيف يمكن مقارنة الناجين بباقي المسافرين في التايتانك؟ وما إلى ذلك من أسئلة."
   ]
  },
  {
   "cell_type": "markdown",
   "metadata": {
    "colab_type": "text",
    "id": "wLtXfmljHFaU"
   },
   "source": [
    "<div style=\"direction:rtl; text-align:right\">\n",
    "ملاحظة: لإكمال هذا المشروع، عليك تعديل الخانات التي يوجد فيها الكود أدناه قبل تسليم المشروع. جميع الخانات الأخرى يجب ان تبقى كما هي بدون أي \n",
    "تعديل.\n",
    "\n",
    "```\n",
    "############################\n",
    "# عليك تعديل هذه الخانة قبل تسليم المشروع\n",
    "# YOU HAVE TO EDIT THIS CELLL\n",
    "############################\n",
    "```"
   ]
  },
  {
   "cell_type": "code",
   "execution_count": 134,
   "metadata": {
    "colab": {},
    "colab_type": "code",
    "id": "NqgCBfBxHFaV",
    "outputId": "3de40a2d-bcd6-4a68-9a6e-7e89b08a966e"
   },
   "outputs": [],
   "source": [
    "import numpy as np\n",
    "import pandas as pd\n",
    "import matplotlib.pyplot as plt\n",
    "import seaborn as sns\n",
    "%matplotlib inline"
   ]
  },
  {
   "cell_type": "markdown",
   "metadata": {
    "colab_type": "text",
    "id": "tZZGE0RSHFaj"
   },
   "source": [
    "<div style=\"direction:rtl; text-align:right\">\n",
    "\n",
    "# قراءة البيانات"
   ]
  },
  {
   "cell_type": "markdown",
   "metadata": {},
   "source": [
    "<div style=\"direction:rtl; text-align:right\">\n",
    "سنقوم أولاً باستخدام pd.read_csv لقراءة البيانات:"
   ]
  },
  {
   "cell_type": "code",
   "execution_count": 135,
   "metadata": {
    "colab": {},
    "colab_type": "code",
    "id": "kglOZTf5HFak",
    "outputId": "f0e48179-e96e-4204-ee88-ffd560480755"
   },
   "outputs": [],
   "source": [
    "data = pd.read_csv('titanic.csv')"
   ]
  },
  {
   "cell_type": "markdown",
   "metadata": {},
   "source": [
    "<div style=\"direction:rtl; text-align:right\">\n",
    "بعد أن قرأنا البيانات، سنقوم الآن باستعراض البيانات حتى نتأكد من قراءتها بشكل صحيح وذلك باستخدام الأمرين: head و info."
   ]
  },
  {
   "cell_type": "code",
   "execution_count": 136,
   "metadata": {
    "colab": {},
    "colab_type": "code",
    "id": "SKSmLdI9HFav",
    "outputId": "521c1fc8-fffa-4ba4-9c91-dc3b7c5397b9"
   },
   "outputs": [
    {
     "data": {
      "text/html": [
       "<div>\n",
       "<style scoped>\n",
       "    .dataframe tbody tr th:only-of-type {\n",
       "        vertical-align: middle;\n",
       "    }\n",
       "\n",
       "    .dataframe tbody tr th {\n",
       "        vertical-align: top;\n",
       "    }\n",
       "\n",
       "    .dataframe thead th {\n",
       "        text-align: right;\n",
       "    }\n",
       "</style>\n",
       "<table border=\"1\" class=\"dataframe\">\n",
       "  <thead>\n",
       "    <tr style=\"text-align: right;\">\n",
       "      <th></th>\n",
       "      <th>PassengerId</th>\n",
       "      <th>Survived</th>\n",
       "      <th>Pclass</th>\n",
       "      <th>Name</th>\n",
       "      <th>Sex</th>\n",
       "      <th>Age</th>\n",
       "      <th>SibSp</th>\n",
       "      <th>Parch</th>\n",
       "      <th>Ticket</th>\n",
       "      <th>Fare</th>\n",
       "      <th>Cabin</th>\n",
       "      <th>Embarked</th>\n",
       "    </tr>\n",
       "  </thead>\n",
       "  <tbody>\n",
       "    <tr>\n",
       "      <th>0</th>\n",
       "      <td>1</td>\n",
       "      <td>0</td>\n",
       "      <td>3</td>\n",
       "      <td>Braund, Mr. Owen Harris</td>\n",
       "      <td>male</td>\n",
       "      <td>22.0</td>\n",
       "      <td>1</td>\n",
       "      <td>0</td>\n",
       "      <td>A/5 21171</td>\n",
       "      <td>7.2500</td>\n",
       "      <td>NaN</td>\n",
       "      <td>S</td>\n",
       "    </tr>\n",
       "    <tr>\n",
       "      <th>1</th>\n",
       "      <td>2</td>\n",
       "      <td>1</td>\n",
       "      <td>1</td>\n",
       "      <td>Cumings, Mrs. John Bradley (Florence Briggs Th...</td>\n",
       "      <td>female</td>\n",
       "      <td>38.0</td>\n",
       "      <td>1</td>\n",
       "      <td>0</td>\n",
       "      <td>PC 17599</td>\n",
       "      <td>71.2833</td>\n",
       "      <td>C85</td>\n",
       "      <td>C</td>\n",
       "    </tr>\n",
       "    <tr>\n",
       "      <th>2</th>\n",
       "      <td>3</td>\n",
       "      <td>1</td>\n",
       "      <td>3</td>\n",
       "      <td>Heikkinen, Miss. Laina</td>\n",
       "      <td>female</td>\n",
       "      <td>26.0</td>\n",
       "      <td>0</td>\n",
       "      <td>0</td>\n",
       "      <td>STON/O2. 3101282</td>\n",
       "      <td>7.9250</td>\n",
       "      <td>NaN</td>\n",
       "      <td>S</td>\n",
       "    </tr>\n",
       "    <tr>\n",
       "      <th>3</th>\n",
       "      <td>4</td>\n",
       "      <td>1</td>\n",
       "      <td>1</td>\n",
       "      <td>Futrelle, Mrs. Jacques Heath (Lily May Peel)</td>\n",
       "      <td>female</td>\n",
       "      <td>35.0</td>\n",
       "      <td>1</td>\n",
       "      <td>0</td>\n",
       "      <td>113803</td>\n",
       "      <td>53.1000</td>\n",
       "      <td>C123</td>\n",
       "      <td>S</td>\n",
       "    </tr>\n",
       "    <tr>\n",
       "      <th>4</th>\n",
       "      <td>5</td>\n",
       "      <td>0</td>\n",
       "      <td>3</td>\n",
       "      <td>Allen, Mr. William Henry</td>\n",
       "      <td>male</td>\n",
       "      <td>35.0</td>\n",
       "      <td>0</td>\n",
       "      <td>0</td>\n",
       "      <td>373450</td>\n",
       "      <td>8.0500</td>\n",
       "      <td>NaN</td>\n",
       "      <td>S</td>\n",
       "    </tr>\n",
       "  </tbody>\n",
       "</table>\n",
       "</div>"
      ],
      "text/plain": [
       "   PassengerId  Survived  Pclass  \\\n",
       "0            1         0       3   \n",
       "1            2         1       1   \n",
       "2            3         1       3   \n",
       "3            4         1       1   \n",
       "4            5         0       3   \n",
       "\n",
       "                                                Name     Sex   Age  SibSp  \\\n",
       "0                            Braund, Mr. Owen Harris    male  22.0      1   \n",
       "1  Cumings, Mrs. John Bradley (Florence Briggs Th...  female  38.0      1   \n",
       "2                             Heikkinen, Miss. Laina  female  26.0      0   \n",
       "3       Futrelle, Mrs. Jacques Heath (Lily May Peel)  female  35.0      1   \n",
       "4                           Allen, Mr. William Henry    male  35.0      0   \n",
       "\n",
       "   Parch            Ticket     Fare Cabin Embarked  \n",
       "0      0         A/5 21171   7.2500   NaN        S  \n",
       "1      0          PC 17599  71.2833   C85        C  \n",
       "2      0  STON/O2. 3101282   7.9250   NaN        S  \n",
       "3      0            113803  53.1000  C123        S  \n",
       "4      0            373450   8.0500   NaN        S  "
      ]
     },
     "execution_count": 136,
     "metadata": {},
     "output_type": "execute_result"
    }
   ],
   "source": [
    "#لطباعة رأس الجدول نقوم باستخدام الأمر head\n",
    "data.head()"
   ]
  },
  {
   "cell_type": "code",
   "execution_count": 137,
   "metadata": {
    "colab": {},
    "colab_type": "code",
    "id": "qd-YpBqwHFa4",
    "outputId": "55c90a24-96e7-4f31-87d7-4ad1a6b70d4e"
   },
   "outputs": [
    {
     "name": "stdout",
     "output_type": "stream",
     "text": [
      "<class 'pandas.core.frame.DataFrame'>\n",
      "RangeIndex: 891 entries, 0 to 890\n",
      "Data columns (total 12 columns):\n",
      " #   Column       Non-Null Count  Dtype  \n",
      "---  ------       --------------  -----  \n",
      " 0   PassengerId  891 non-null    int64  \n",
      " 1   Survived     891 non-null    int64  \n",
      " 2   Pclass       891 non-null    int64  \n",
      " 3   Name         891 non-null    object \n",
      " 4   Sex          891 non-null    object \n",
      " 5   Age          714 non-null    float64\n",
      " 6   SibSp        891 non-null    int64  \n",
      " 7   Parch        891 non-null    int64  \n",
      " 8   Ticket       891 non-null    object \n",
      " 9   Fare         891 non-null    float64\n",
      " 10  Cabin        204 non-null    object \n",
      " 11  Embarked     889 non-null    object \n",
      "dtypes: float64(2), int64(5), object(5)\n",
      "memory usage: 83.7+ KB\n"
     ]
    }
   ],
   "source": [
    "data.info()"
   ]
  },
  {
   "cell_type": "markdown",
   "metadata": {},
   "source": [
    "<div style=\"direction:rtl; text-align:right\">\n",
    "سنقوم الآن بطباعة بعض المعلومات الأساسية عن البيانات. في الخانة التالية، استخدم مخرجات الخانة السابقة (info) للإجابة عن الأسئلة مثل عدد الصفوف وعدد الأعمدة."
   ]
  },
  {
   "cell_type": "code",
   "execution_count": 138,
   "metadata": {
    "colab": {},
    "colab_type": "code",
    "id": "m1isLtNHHFa_"
   },
   "outputs": [],
   "source": [
    "############################\n",
    "# عليك تعديل هذه الخانة قبل تسليم المشروع\n",
    "# YOU HAVE TO EDIT THIS CELLL\n",
    "############################\n",
    "\n",
    "# كم عدد الصفوف ؟\n",
    "nrows = 891\n",
    "# كم عدد الأعمدة ؟\n",
    "ncols = 12\n",
    "# كم عدد الأعمدة الرقمية ؟ كم عدد الأعمدة الوصفية ؟\n",
    "n_num_cols = 7\n",
    "n_str_cols = 5"
   ]
  },
  {
   "cell_type": "code",
   "execution_count": 139,
   "metadata": {
    "colab": {},
    "colab_type": "code",
    "id": "-YCnDtH_HFbD",
    "outputId": "4dc9788f-2d8a-4201-defa-eb097ff497ca"
   },
   "outputs": [
    {
     "name": "stdout",
     "output_type": "stream",
     "text": [
      "There are 891 rows and 12 columns in this dataset.\n",
      "Of those columns, there are 7 numerical columns and 5 categorical columns.\n"
     ]
    }
   ],
   "source": [
    "print('There are {0} rows and {1} columns in this dataset.'.format(nrows, ncols))\n",
    "print('Of those columns, there are {0} numerical columns and {1} categorical columns.'.format(n_num_cols, n_str_cols))"
   ]
  },
  {
   "cell_type": "markdown",
   "metadata": {},
   "source": [
    "<div style=\"direction:rtl; text-align:right\">\n",
    "قم باستخدام مخرجات الأمر info مرة أخرى لمعرفة الأعمدة التي يوجد بها خانات فارغة وكم بكتابة أسماء الأعمدة في الخانة التالية."
   ]
  },
  {
   "cell_type": "code",
   "execution_count": null,
   "metadata": {},
   "outputs": [],
   "source": []
  },
  {
   "cell_type": "code",
   "execution_count": 140,
   "metadata": {
    "colab": {},
    "colab_type": "code",
    "id": "OkIDWMZPHFbQ"
   },
   "outputs": [],
   "source": [
    "############################\n",
    "# عليك تعديل هذه الخانة قبل تسليم المشروع\n",
    "# YOU HAVE TO EDIT THIS CELLL\n",
    "############################\n",
    "\n",
    "# Look at the outputs at `data.info()` again..\n",
    "# Which columns have missing values ?\n",
    "# replace the empty list below with column names that have missing values\n",
    "# for example: ['Name', 'Fare', 'Sex']\n",
    "\n",
    "cols_with_missing_vals = [data.isna().any()]"
   ]
  },
  {
   "cell_type": "code",
   "execution_count": 141,
   "metadata": {
    "colab": {},
    "colab_type": "code",
    "id": "5EFHcq3DHFbV",
    "outputId": "5c19aec4-bcf4-450d-db95-8e6d04cb00a1"
   },
   "outputs": [
    {
     "name": "stdout",
     "output_type": "stream",
     "text": [
      "The following columns have missing values: [PassengerId    False\n",
      "Survived       False\n",
      "Pclass         False\n",
      "Name           False\n",
      "Sex            False\n",
      "Age             True\n",
      "SibSp          False\n",
      "Parch          False\n",
      "Ticket         False\n",
      "Fare           False\n",
      "Cabin           True\n",
      "Embarked        True\n",
      "dtype: bool]\n"
     ]
    }
   ],
   "source": [
    "print('The following columns have missing values: {0}'.format(cols_with_missing_vals))"
   ]
  },
  {
   "cell_type": "markdown",
   "metadata": {
    "colab_type": "text",
    "id": "-PaG6U1GHFbc"
   },
   "source": [
    "<div style=\"direction:rtl; text-align:right\">\n",
    "\n",
    "# تنظيف البيانات"
   ]
  },
  {
   "cell_type": "markdown",
   "metadata": {},
   "source": [
    "<div style=\"direction:rtl; text-align:right\">\n",
    "سنقوم الآن بتنظيف البيانات. سنقوم أولاً بحذف الأعمدة التي لانحتاجها مثل PassengerId:"
   ]
  },
  {
   "cell_type": "code",
   "execution_count": 142,
   "metadata": {
    "colab": {},
    "colab_type": "code",
    "id": "2BkpI7Y8HFbd"
   },
   "outputs": [],
   "source": [
    "# delete 'PassengerId' column, using 'drop' command ; don't forget to include `inplace=True`\n",
    "data.drop(columns='PassengerId', inplace=True)"
   ]
  },
  {
   "cell_type": "markdown",
   "metadata": {},
   "source": [
    "<div style=\"direction:rtl; text-align:right\">\n",
    "سنقوم بتكرار نفس الأمر مع أعمدة Name و Ticket:"
   ]
  },
  {
   "cell_type": "code",
   "execution_count": 143,
   "metadata": {
    "colab": {},
    "colab_type": "code",
    "id": "IoJqonP7HFbk"
   },
   "outputs": [],
   "source": [
    "############################\n",
    "# عليك تعديل هذه الخانة قبل تسليم المشروع\n",
    "# YOU HAVE TO EDIT THIS CELLL\n",
    "############################\n",
    "\n",
    "# drop the columns `Name` and `Ticket` as well the same way\n",
    "\n",
    "#data.____(__________)\n",
    "data.drop(columns=['Name', 'Ticket'], inplace=True)"
   ]
  },
  {
   "cell_type": "code",
   "execution_count": 144,
   "metadata": {},
   "outputs": [
    {
     "data": {
      "text/html": [
       "<div>\n",
       "<style scoped>\n",
       "    .dataframe tbody tr th:only-of-type {\n",
       "        vertical-align: middle;\n",
       "    }\n",
       "\n",
       "    .dataframe tbody tr th {\n",
       "        vertical-align: top;\n",
       "    }\n",
       "\n",
       "    .dataframe thead th {\n",
       "        text-align: right;\n",
       "    }\n",
       "</style>\n",
       "<table border=\"1\" class=\"dataframe\">\n",
       "  <thead>\n",
       "    <tr style=\"text-align: right;\">\n",
       "      <th></th>\n",
       "      <th>Survived</th>\n",
       "      <th>Pclass</th>\n",
       "      <th>Sex</th>\n",
       "      <th>Age</th>\n",
       "      <th>SibSp</th>\n",
       "      <th>Parch</th>\n",
       "      <th>Fare</th>\n",
       "      <th>Cabin</th>\n",
       "      <th>Embarked</th>\n",
       "    </tr>\n",
       "  </thead>\n",
       "  <tbody>\n",
       "    <tr>\n",
       "      <th>0</th>\n",
       "      <td>0</td>\n",
       "      <td>3</td>\n",
       "      <td>male</td>\n",
       "      <td>22.0</td>\n",
       "      <td>1</td>\n",
       "      <td>0</td>\n",
       "      <td>7.2500</td>\n",
       "      <td>NaN</td>\n",
       "      <td>S</td>\n",
       "    </tr>\n",
       "    <tr>\n",
       "      <th>1</th>\n",
       "      <td>1</td>\n",
       "      <td>1</td>\n",
       "      <td>female</td>\n",
       "      <td>38.0</td>\n",
       "      <td>1</td>\n",
       "      <td>0</td>\n",
       "      <td>71.2833</td>\n",
       "      <td>C85</td>\n",
       "      <td>C</td>\n",
       "    </tr>\n",
       "    <tr>\n",
       "      <th>2</th>\n",
       "      <td>1</td>\n",
       "      <td>3</td>\n",
       "      <td>female</td>\n",
       "      <td>26.0</td>\n",
       "      <td>0</td>\n",
       "      <td>0</td>\n",
       "      <td>7.9250</td>\n",
       "      <td>NaN</td>\n",
       "      <td>S</td>\n",
       "    </tr>\n",
       "    <tr>\n",
       "      <th>3</th>\n",
       "      <td>1</td>\n",
       "      <td>1</td>\n",
       "      <td>female</td>\n",
       "      <td>35.0</td>\n",
       "      <td>1</td>\n",
       "      <td>0</td>\n",
       "      <td>53.1000</td>\n",
       "      <td>C123</td>\n",
       "      <td>S</td>\n",
       "    </tr>\n",
       "    <tr>\n",
       "      <th>4</th>\n",
       "      <td>0</td>\n",
       "      <td>3</td>\n",
       "      <td>male</td>\n",
       "      <td>35.0</td>\n",
       "      <td>0</td>\n",
       "      <td>0</td>\n",
       "      <td>8.0500</td>\n",
       "      <td>NaN</td>\n",
       "      <td>S</td>\n",
       "    </tr>\n",
       "  </tbody>\n",
       "</table>\n",
       "</div>"
      ],
      "text/plain": [
       "   Survived  Pclass     Sex   Age  SibSp  Parch     Fare Cabin Embarked\n",
       "0         0       3    male  22.0      1      0   7.2500   NaN        S\n",
       "1         1       1  female  38.0      1      0  71.2833   C85        C\n",
       "2         1       3  female  26.0      0      0   7.9250   NaN        S\n",
       "3         1       1  female  35.0      1      0  53.1000  C123        S\n",
       "4         0       3    male  35.0      0      0   8.0500   NaN        S"
      ]
     },
     "execution_count": 144,
     "metadata": {},
     "output_type": "execute_result"
    }
   ],
   "source": [
    "data.head()"
   ]
  },
  {
   "cell_type": "code",
   "execution_count": 145,
   "metadata": {
    "colab": {},
    "colab_type": "code",
    "id": "f4NgMVssHFbs"
   },
   "outputs": [],
   "source": [
    "final_column_set = data.columns.tolist()"
   ]
  },
  {
   "cell_type": "code",
   "execution_count": 146,
   "metadata": {
    "colab": {},
    "colab_type": "code",
    "id": "vkWP1T5DHFby"
   },
   "outputs": [],
   "source": [
    "# We can print all values of Age using this command:\n",
    "age_vals = data['Age'].values"
   ]
  },
  {
   "cell_type": "markdown",
   "metadata": {},
   "source": [
    "<div style=\"direction:rtl; text-align:right\">\n",
    "للتأكد من أننا حصلنا على قيم العمر في مصفوفة، قم بإنشاء خانة جديدة وكتابة age_vals لطباعة المصفوفة.."
   ]
  },
  {
   "cell_type": "code",
   "execution_count": 147,
   "metadata": {},
   "outputs": [
    {
     "name": "stdout",
     "output_type": "stream",
     "text": [
      "[22.   38.   26.   35.   35.     nan 54.    2.   27.   14.    4.   58.\n",
      " 20.   39.   14.   55.    2.     nan 31.     nan 35.   34.   15.   28.\n",
      "  8.   38.     nan 19.     nan   nan 40.     nan   nan 66.   28.   42.\n",
      "   nan 21.   18.   14.   40.   27.     nan  3.   19.     nan   nan   nan\n",
      "   nan 18.    7.   21.   49.   29.   65.     nan 21.   28.5   5.   11.\n",
      " 22.   38.   45.    4.     nan   nan 29.   19.   17.   26.   32.   16.\n",
      " 21.   26.   32.   25.     nan   nan  0.83 30.   22.   29.     nan 28.\n",
      " 17.   33.   16.     nan 23.   24.   29.   20.   46.   26.   59.     nan\n",
      " 71.   23.   34.   34.   28.     nan 21.   33.   37.   28.   21.     nan\n",
      " 38.     nan 47.   14.5  22.   20.   17.   21.   70.5  29.   24.    2.\n",
      " 21.     nan 32.5  32.5  54.   12.     nan 24.     nan 45.   33.   20.\n",
      " 47.   29.   25.   23.   19.   37.   16.   24.     nan 22.   24.   19.\n",
      " 18.   19.   27.    9.   36.5  42.   51.   22.   55.5  40.5    nan 51.\n",
      " 16.   30.     nan   nan 44.   40.   26.   17.    1.    9.     nan 45.\n",
      "   nan 28.   61.    4.    1.   21.   56.   18.     nan 50.   30.   36.\n",
      "   nan   nan  9.    1.    4.     nan   nan 45.   40.   36.   32.   19.\n",
      " 19.    3.   44.   58.     nan 42.     nan 24.   28.     nan 34.   45.5\n",
      " 18.    2.   32.   26.   16.   40.   24.   35.   22.   30.     nan 31.\n",
      " 27.   42.   32.   30.   16.   27.   51.     nan 38.   22.   19.   20.5\n",
      " 18.     nan 35.   29.   59.    5.   24.     nan 44.    8.   19.   33.\n",
      "   nan   nan 29.   22.   30.   44.   25.   24.   37.   54.     nan 29.\n",
      " 62.   30.   41.   29.     nan 30.   35.   50.     nan  3.   52.   40.\n",
      "   nan 36.   16.   25.   58.   35.     nan 25.   41.   37.     nan 63.\n",
      " 45.     nan  7.   35.   65.   28.   16.   19.     nan 33.   30.   22.\n",
      " 42.   22.   26.   19.   36.   24.   24.     nan 23.5   2.     nan 50.\n",
      "   nan   nan 19.     nan   nan  0.92   nan 17.   30.   30.   24.   18.\n",
      " 26.   28.   43.   26.   24.   54.   31.   40.   22.   27.   30.   22.\n",
      "   nan 36.   61.   36.   31.   16.     nan 45.5  38.   16.     nan   nan\n",
      " 29.   41.   45.   45.    2.   24.   28.   25.   36.   24.   40.     nan\n",
      "  3.   42.   23.     nan 15.   25.     nan 28.   22.   38.     nan   nan\n",
      " 40.   29.   45.   35.     nan 30.   60.     nan   nan 24.   25.   18.\n",
      " 19.   22.    3.     nan 22.   27.   20.   19.   42.    1.   32.   35.\n",
      "   nan 18.    1.   36.     nan 17.   36.   21.   28.   23.   24.   22.\n",
      " 31.   46.   23.   28.   39.   26.   21.   28.   20.   34.   51.    3.\n",
      " 21.     nan   nan   nan 33.     nan 44.     nan 34.   18.   30.   10.\n",
      "   nan 21.   29.   28.   18.     nan 28.   19.     nan 32.   28.     nan\n",
      " 42.   17.   50.   14.   21.   24.   64.   31.   45.   20.   25.   28.\n",
      "   nan  4.   13.   34.    5.   52.   36.     nan 30.   49.     nan 29.\n",
      " 65.     nan 50.     nan 48.   34.   47.   48.     nan 38.     nan 56.\n",
      "   nan  0.75   nan 38.   33.   23.   22.     nan 34.   29.   22.    2.\n",
      "  9.     nan 50.   63.   25.     nan 35.   58.   30.    9.     nan 21.\n",
      " 55.   71.   21.     nan 54.     nan 25.   24.   17.   21.     nan 37.\n",
      " 16.   18.   33.     nan 28.   26.   29.     nan 36.   54.   24.   47.\n",
      " 34.     nan 36.   32.   30.   22.     nan 44.     nan 40.5  50.     nan\n",
      " 39.   23.    2.     nan 17.     nan 30.    7.   45.   30.     nan 22.\n",
      " 36.    9.   11.   32.   50.   64.   19.     nan 33.    8.   17.   27.\n",
      "   nan 22.   22.   62.   48.     nan 39.   36.     nan 40.   28.     nan\n",
      "   nan 24.   19.   29.     nan 32.   62.   53.   36.     nan 16.   19.\n",
      " 34.   39.     nan 32.   25.   39.   54.   36.     nan 18.   47.   60.\n",
      " 22.     nan 35.   52.   47.     nan 37.   36.     nan 49.     nan 49.\n",
      " 24.     nan   nan 44.   35.   36.   30.   27.   22.   40.   39.     nan\n",
      "   nan   nan 35.   24.   34.   26.    4.   26.   27.   42.   20.   21.\n",
      " 21.   61.   57.   21.   26.     nan 80.   51.   32.     nan  9.   28.\n",
      " 32.   31.   41.     nan 20.   24.    2.     nan  0.75 48.   19.   56.\n",
      "   nan 23.     nan 18.   21.     nan 18.   24.     nan 32.   23.   58.\n",
      " 50.   40.   47.   36.   20.   32.   25.     nan 43.     nan 40.   31.\n",
      " 70.   31.     nan 18.   24.5  18.   43.   36.     nan 27.   20.   14.\n",
      " 60.   25.   14.   19.   18.   15.   31.    4.     nan 25.   60.   52.\n",
      " 44.     nan 49.   42.   18.   35.   18.   25.   26.   39.   45.   42.\n",
      " 22.     nan 24.     nan 48.   29.   52.   19.   38.   27.     nan 33.\n",
      "  6.   17.   34.   50.   27.   20.   30.     nan 25.   25.   29.   11.\n",
      "   nan 23.   23.   28.5  48.   35.     nan   nan   nan 36.   21.   24.\n",
      " 31.   70.   16.   30.   19.   31.    4.    6.   33.   23.   48.    0.67\n",
      " 28.   18.   34.   33.     nan 41.   20.   36.   16.   51.     nan 30.5\n",
      "   nan 32.   24.   48.   57.     nan 54.   18.     nan  5.     nan 43.\n",
      " 13.   17.   29.     nan 25.   25.   18.    8.    1.   46.     nan 16.\n",
      "   nan   nan 25.   39.   49.   31.   30.   30.   34.   31.   11.    0.42\n",
      " 27.   31.   39.   18.   39.   33.   26.   39.   35.    6.   30.5    nan\n",
      " 23.   31.   43.   10.   52.   27.   38.   27.    2.     nan   nan  1.\n",
      "   nan 62.   15.    0.83   nan 23.   18.   39.   21.     nan 32.     nan\n",
      " 20.   16.   30.   34.5  17.   42.     nan 35.   28.     nan  4.   74.\n",
      "  9.   16.   44.   18.   45.   51.   24.     nan 41.   21.   48.     nan\n",
      " 24.   42.   27.   31.     nan  4.   26.   47.   33.   47.   28.   15.\n",
      " 20.   19.     nan 56.   25.   33.   22.   28.   25.   39.   27.   19.\n",
      "   nan 26.   32.  ]\n"
     ]
    }
   ],
   "source": [
    "print(age_vals)"
   ]
  },
  {
   "cell_type": "markdown",
   "metadata": {},
   "source": [
    "<div style=\"direction:rtl; text-align:right\">\n",
    "في الخانة التالية، سنقوم بحساب متوسط العمر باستخدام numpy وذلك حتى نقوم باستخدام هذا الرقم لملء الخانات المفقودة في العمر."
   ]
  },
  {
   "cell_type": "markdown",
   "metadata": {},
   "source": [
    "<div style=\"direction:rtl; text-align:right\">\n",
    "لكي أحسب متوسط العمر لابد من إزالة القيم الفارغة nan من المصفوفة كالتالي:"
   ]
  },
  {
   "cell_type": "code",
   "execution_count": 148,
   "metadata": {},
   "outputs": [
    {
     "data": {
      "text/plain": [
       "array([22.  , 38.  , 26.  , 35.  , 35.  , 54.  ,  2.  , 27.  , 14.  ,\n",
       "        4.  , 58.  , 20.  , 39.  , 14.  , 55.  ,  2.  , 31.  , 35.  ,\n",
       "       34.  , 15.  , 28.  ,  8.  , 38.  , 19.  , 40.  , 66.  , 28.  ,\n",
       "       42.  , 21.  , 18.  , 14.  , 40.  , 27.  ,  3.  , 19.  , 18.  ,\n",
       "        7.  , 21.  , 49.  , 29.  , 65.  , 21.  , 28.5 ,  5.  , 11.  ,\n",
       "       22.  , 38.  , 45.  ,  4.  , 29.  , 19.  , 17.  , 26.  , 32.  ,\n",
       "       16.  , 21.  , 26.  , 32.  , 25.  ,  0.83, 30.  , 22.  , 29.  ,\n",
       "       28.  , 17.  , 33.  , 16.  , 23.  , 24.  , 29.  , 20.  , 46.  ,\n",
       "       26.  , 59.  , 71.  , 23.  , 34.  , 34.  , 28.  , 21.  , 33.  ,\n",
       "       37.  , 28.  , 21.  , 38.  , 47.  , 14.5 , 22.  , 20.  , 17.  ,\n",
       "       21.  , 70.5 , 29.  , 24.  ,  2.  , 21.  , 32.5 , 32.5 , 54.  ,\n",
       "       12.  , 24.  , 45.  , 33.  , 20.  , 47.  , 29.  , 25.  , 23.  ,\n",
       "       19.  , 37.  , 16.  , 24.  , 22.  , 24.  , 19.  , 18.  , 19.  ,\n",
       "       27.  ,  9.  , 36.5 , 42.  , 51.  , 22.  , 55.5 , 40.5 , 51.  ,\n",
       "       16.  , 30.  , 44.  , 40.  , 26.  , 17.  ,  1.  ,  9.  , 45.  ,\n",
       "       28.  , 61.  ,  4.  ,  1.  , 21.  , 56.  , 18.  , 50.  , 30.  ,\n",
       "       36.  ,  9.  ,  1.  ,  4.  , 45.  , 40.  , 36.  , 32.  , 19.  ,\n",
       "       19.  ,  3.  , 44.  , 58.  , 42.  , 24.  , 28.  , 34.  , 45.5 ,\n",
       "       18.  ,  2.  , 32.  , 26.  , 16.  , 40.  , 24.  , 35.  , 22.  ,\n",
       "       30.  , 31.  , 27.  , 42.  , 32.  , 30.  , 16.  , 27.  , 51.  ,\n",
       "       38.  , 22.  , 19.  , 20.5 , 18.  , 35.  , 29.  , 59.  ,  5.  ,\n",
       "       24.  , 44.  ,  8.  , 19.  , 33.  , 29.  , 22.  , 30.  , 44.  ,\n",
       "       25.  , 24.  , 37.  , 54.  , 29.  , 62.  , 30.  , 41.  , 29.  ,\n",
       "       30.  , 35.  , 50.  ,  3.  , 52.  , 40.  , 36.  , 16.  , 25.  ,\n",
       "       58.  , 35.  , 25.  , 41.  , 37.  , 63.  , 45.  ,  7.  , 35.  ,\n",
       "       65.  , 28.  , 16.  , 19.  , 33.  , 30.  , 22.  , 42.  , 22.  ,\n",
       "       26.  , 19.  , 36.  , 24.  , 24.  , 23.5 ,  2.  , 50.  , 19.  ,\n",
       "        0.92, 17.  , 30.  , 30.  , 24.  , 18.  , 26.  , 28.  , 43.  ,\n",
       "       26.  , 24.  , 54.  , 31.  , 40.  , 22.  , 27.  , 30.  , 22.  ,\n",
       "       36.  , 61.  , 36.  , 31.  , 16.  , 45.5 , 38.  , 16.  , 29.  ,\n",
       "       41.  , 45.  , 45.  ,  2.  , 24.  , 28.  , 25.  , 36.  , 24.  ,\n",
       "       40.  ,  3.  , 42.  , 23.  , 15.  , 25.  , 28.  , 22.  , 38.  ,\n",
       "       40.  , 29.  , 45.  , 35.  , 30.  , 60.  , 24.  , 25.  , 18.  ,\n",
       "       19.  , 22.  ,  3.  , 22.  , 27.  , 20.  , 19.  , 42.  ,  1.  ,\n",
       "       32.  , 35.  , 18.  ,  1.  , 36.  , 17.  , 36.  , 21.  , 28.  ,\n",
       "       23.  , 24.  , 22.  , 31.  , 46.  , 23.  , 28.  , 39.  , 26.  ,\n",
       "       21.  , 28.  , 20.  , 34.  , 51.  ,  3.  , 21.  , 33.  , 44.  ,\n",
       "       34.  , 18.  , 30.  , 10.  , 21.  , 29.  , 28.  , 18.  , 28.  ,\n",
       "       19.  , 32.  , 28.  , 42.  , 17.  , 50.  , 14.  , 21.  , 24.  ,\n",
       "       64.  , 31.  , 45.  , 20.  , 25.  , 28.  ,  4.  , 13.  , 34.  ,\n",
       "        5.  , 52.  , 36.  , 30.  , 49.  , 29.  , 65.  , 50.  , 48.  ,\n",
       "       34.  , 47.  , 48.  , 38.  , 56.  ,  0.75, 38.  , 33.  , 23.  ,\n",
       "       22.  , 34.  , 29.  , 22.  ,  2.  ,  9.  , 50.  , 63.  , 25.  ,\n",
       "       35.  , 58.  , 30.  ,  9.  , 21.  , 55.  , 71.  , 21.  , 54.  ,\n",
       "       25.  , 24.  , 17.  , 21.  , 37.  , 16.  , 18.  , 33.  , 28.  ,\n",
       "       26.  , 29.  , 36.  , 54.  , 24.  , 47.  , 34.  , 36.  , 32.  ,\n",
       "       30.  , 22.  , 44.  , 40.5 , 50.  , 39.  , 23.  ,  2.  , 17.  ,\n",
       "       30.  ,  7.  , 45.  , 30.  , 22.  , 36.  ,  9.  , 11.  , 32.  ,\n",
       "       50.  , 64.  , 19.  , 33.  ,  8.  , 17.  , 27.  , 22.  , 22.  ,\n",
       "       62.  , 48.  , 39.  , 36.  , 40.  , 28.  , 24.  , 19.  , 29.  ,\n",
       "       32.  , 62.  , 53.  , 36.  , 16.  , 19.  , 34.  , 39.  , 32.  ,\n",
       "       25.  , 39.  , 54.  , 36.  , 18.  , 47.  , 60.  , 22.  , 35.  ,\n",
       "       52.  , 47.  , 37.  , 36.  , 49.  , 49.  , 24.  , 44.  , 35.  ,\n",
       "       36.  , 30.  , 27.  , 22.  , 40.  , 39.  , 35.  , 24.  , 34.  ,\n",
       "       26.  ,  4.  , 26.  , 27.  , 42.  , 20.  , 21.  , 21.  , 61.  ,\n",
       "       57.  , 21.  , 26.  , 80.  , 51.  , 32.  ,  9.  , 28.  , 32.  ,\n",
       "       31.  , 41.  , 20.  , 24.  ,  2.  ,  0.75, 48.  , 19.  , 56.  ,\n",
       "       23.  , 18.  , 21.  , 18.  , 24.  , 32.  , 23.  , 58.  , 50.  ,\n",
       "       40.  , 47.  , 36.  , 20.  , 32.  , 25.  , 43.  , 40.  , 31.  ,\n",
       "       70.  , 31.  , 18.  , 24.5 , 18.  , 43.  , 36.  , 27.  , 20.  ,\n",
       "       14.  , 60.  , 25.  , 14.  , 19.  , 18.  , 15.  , 31.  ,  4.  ,\n",
       "       25.  , 60.  , 52.  , 44.  , 49.  , 42.  , 18.  , 35.  , 18.  ,\n",
       "       25.  , 26.  , 39.  , 45.  , 42.  , 22.  , 24.  , 48.  , 29.  ,\n",
       "       52.  , 19.  , 38.  , 27.  , 33.  ,  6.  , 17.  , 34.  , 50.  ,\n",
       "       27.  , 20.  , 30.  , 25.  , 25.  , 29.  , 11.  , 23.  , 23.  ,\n",
       "       28.5 , 48.  , 35.  , 36.  , 21.  , 24.  , 31.  , 70.  , 16.  ,\n",
       "       30.  , 19.  , 31.  ,  4.  ,  6.  , 33.  , 23.  , 48.  ,  0.67,\n",
       "       28.  , 18.  , 34.  , 33.  , 41.  , 20.  , 36.  , 16.  , 51.  ,\n",
       "       30.5 , 32.  , 24.  , 48.  , 57.  , 54.  , 18.  ,  5.  , 43.  ,\n",
       "       13.  , 17.  , 29.  , 25.  , 25.  , 18.  ,  8.  ,  1.  , 46.  ,\n",
       "       16.  , 25.  , 39.  , 49.  , 31.  , 30.  , 30.  , 34.  , 31.  ,\n",
       "       11.  ,  0.42, 27.  , 31.  , 39.  , 18.  , 39.  , 33.  , 26.  ,\n",
       "       39.  , 35.  ,  6.  , 30.5 , 23.  , 31.  , 43.  , 10.  , 52.  ,\n",
       "       27.  , 38.  , 27.  ,  2.  ,  1.  , 62.  , 15.  ,  0.83, 23.  ,\n",
       "       18.  , 39.  , 21.  , 32.  , 20.  , 16.  , 30.  , 34.5 , 17.  ,\n",
       "       42.  , 35.  , 28.  ,  4.  , 74.  ,  9.  , 16.  , 44.  , 18.  ,\n",
       "       45.  , 51.  , 24.  , 41.  , 21.  , 48.  , 24.  , 42.  , 27.  ,\n",
       "       31.  ,  4.  , 26.  , 47.  , 33.  , 47.  , 28.  , 15.  , 20.  ,\n",
       "       19.  , 56.  , 25.  , 33.  , 22.  , 28.  , 25.  , 39.  , 27.  ,\n",
       "       19.  , 26.  , 32.  ])"
      ]
     },
     "execution_count": 148,
     "metadata": {},
     "output_type": "execute_result"
    }
   ],
   "source": [
    "age_vals[np.logical_not(np.isnan(age_vals))]"
   ]
  },
  {
   "cell_type": "code",
   "execution_count": 149,
   "metadata": {},
   "outputs": [
    {
     "data": {
      "text/plain": [
       "nan"
      ]
     },
     "execution_count": 149,
     "metadata": {},
     "output_type": "execute_result"
    }
   ],
   "source": [
    "age_vals.mean()"
   ]
  },
  {
   "cell_type": "code",
   "execution_count": 150,
   "metadata": {
    "colab": {},
    "colab_type": "code",
    "id": "Fh7eImPwHFb5"
   },
   "outputs": [],
   "source": [
    "############################\n",
    "# عليك تعديل هذه الخانة قبل تسليم المشروع\n",
    "# YOU HAVE TO EDIT THIS CELLL\n",
    "############################\n",
    "\n",
    "# here, print the command that extracts the mean age using numpy: \n",
    "mean_age = 29.69911764705882"
   ]
  },
  {
   "cell_type": "code",
   "execution_count": 151,
   "metadata": {},
   "outputs": [
    {
     "name": "stdout",
     "output_type": "stream",
     "text": [
      "OK!\n"
     ]
    }
   ],
   "source": [
    "assert np.allclose(mean_age, 29.69911764705882), 'You did not calculate the mean age correctly.'\n",
    "print('OK!')"
   ]
  },
  {
   "cell_type": "code",
   "execution_count": 152,
   "metadata": {
    "colab": {},
    "colab_type": "code",
    "id": "Wdp_SETxHFcF"
   },
   "outputs": [],
   "source": [
    "# Now, we will use the average age to fill in all missing values\n",
    "data['Age'].fillna( mean_age, inplace=True)"
   ]
  },
  {
   "cell_type": "markdown",
   "metadata": {
    "colab_type": "text",
    "id": "Dt3jX-8kHFcO"
   },
   "source": [
    "<div style=\"direction:rtl; text-align:right\">\n",
    "\n",
    "# تحليل البيانات الاستكشافي"
   ]
  },
  {
   "cell_type": "markdown",
   "metadata": {},
   "source": [
    "<div style=\"direction:rtl; text-align:right\">\n",
    "سنقوم الآن بتحليل البيانات الاستكشافي وهي عملية نقوم فيها بالتعرف على بعض الإحصائيات عن الأعمدة المختلفة"
   ]
  },
  {
   "cell_type": "code",
   "execution_count": 153,
   "metadata": {
    "colab": {},
    "colab_type": "code",
    "id": "gDBf33RPHFcQ",
    "outputId": "f20de5ba-fd88-4718-94cf-22e746f99acc",
    "scrolled": true
   },
   "outputs": [
    {
     "data": {
      "text/html": [
       "<div>\n",
       "<style scoped>\n",
       "    .dataframe tbody tr th:only-of-type {\n",
       "        vertical-align: middle;\n",
       "    }\n",
       "\n",
       "    .dataframe tbody tr th {\n",
       "        vertical-align: top;\n",
       "    }\n",
       "\n",
       "    .dataframe thead th {\n",
       "        text-align: right;\n",
       "    }\n",
       "</style>\n",
       "<table border=\"1\" class=\"dataframe\">\n",
       "  <thead>\n",
       "    <tr style=\"text-align: right;\">\n",
       "      <th></th>\n",
       "      <th>Survived</th>\n",
       "      <th>Pclass</th>\n",
       "      <th>Sex</th>\n",
       "      <th>Age</th>\n",
       "      <th>SibSp</th>\n",
       "      <th>Parch</th>\n",
       "      <th>Fare</th>\n",
       "      <th>Cabin</th>\n",
       "      <th>Embarked</th>\n",
       "    </tr>\n",
       "  </thead>\n",
       "  <tbody>\n",
       "    <tr>\n",
       "      <th>0</th>\n",
       "      <td>0</td>\n",
       "      <td>3</td>\n",
       "      <td>male</td>\n",
       "      <td>22.0</td>\n",
       "      <td>1</td>\n",
       "      <td>0</td>\n",
       "      <td>7.2500</td>\n",
       "      <td>NaN</td>\n",
       "      <td>S</td>\n",
       "    </tr>\n",
       "    <tr>\n",
       "      <th>1</th>\n",
       "      <td>1</td>\n",
       "      <td>1</td>\n",
       "      <td>female</td>\n",
       "      <td>38.0</td>\n",
       "      <td>1</td>\n",
       "      <td>0</td>\n",
       "      <td>71.2833</td>\n",
       "      <td>C85</td>\n",
       "      <td>C</td>\n",
       "    </tr>\n",
       "    <tr>\n",
       "      <th>2</th>\n",
       "      <td>1</td>\n",
       "      <td>3</td>\n",
       "      <td>female</td>\n",
       "      <td>26.0</td>\n",
       "      <td>0</td>\n",
       "      <td>0</td>\n",
       "      <td>7.9250</td>\n",
       "      <td>NaN</td>\n",
       "      <td>S</td>\n",
       "    </tr>\n",
       "    <tr>\n",
       "      <th>3</th>\n",
       "      <td>1</td>\n",
       "      <td>1</td>\n",
       "      <td>female</td>\n",
       "      <td>35.0</td>\n",
       "      <td>1</td>\n",
       "      <td>0</td>\n",
       "      <td>53.1000</td>\n",
       "      <td>C123</td>\n",
       "      <td>S</td>\n",
       "    </tr>\n",
       "    <tr>\n",
       "      <th>4</th>\n",
       "      <td>0</td>\n",
       "      <td>3</td>\n",
       "      <td>male</td>\n",
       "      <td>35.0</td>\n",
       "      <td>0</td>\n",
       "      <td>0</td>\n",
       "      <td>8.0500</td>\n",
       "      <td>NaN</td>\n",
       "      <td>S</td>\n",
       "    </tr>\n",
       "  </tbody>\n",
       "</table>\n",
       "</div>"
      ],
      "text/plain": [
       "   Survived  Pclass     Sex   Age  SibSp  Parch     Fare Cabin Embarked\n",
       "0         0       3    male  22.0      1      0   7.2500   NaN        S\n",
       "1         1       1  female  38.0      1      0  71.2833   C85        C\n",
       "2         1       3  female  26.0      0      0   7.9250   NaN        S\n",
       "3         1       1  female  35.0      1      0  53.1000  C123        S\n",
       "4         0       3    male  35.0      0      0   8.0500   NaN        S"
      ]
     },
     "execution_count": 153,
     "metadata": {},
     "output_type": "execute_result"
    }
   ],
   "source": [
    "data.head()"
   ]
  },
  {
   "cell_type": "markdown",
   "metadata": {},
   "source": [
    "<div style=\"direction:rtl; text-align:right\">\n",
    "فمثلا: ماهي نسبة الناجين إلى مجموع المسافرين؟ نقوم باستخدام value_counts لحساب عدد الصفوف التي تحمل قيمة محددة:"
   ]
  },
  {
   "cell_type": "code",
   "execution_count": 154,
   "metadata": {
    "colab": {},
    "colab_type": "code",
    "id": "7bD3AebeHFca",
    "outputId": "c3c42c44-1fdd-48bc-8c87-8bbfee8ec9b4"
   },
   "outputs": [
    {
     "data": {
      "text/plain": [
       "0    549\n",
       "1    342\n",
       "Name: Survived, dtype: int64"
      ]
     },
     "execution_count": 154,
     "metadata": {},
     "output_type": "execute_result"
    }
   ],
   "source": [
    "data['Survived'].value_counts()"
   ]
  },
  {
   "cell_type": "markdown",
   "metadata": {},
   "source": [
    "<div style=\"direction:rtl; text-align:right\">\n",
    "قم بحساب نسبة الناجين بناء على الخانة السابقة:"
   ]
  },
  {
   "cell_type": "code",
   "execution_count": 155,
   "metadata": {},
   "outputs": [
    {
     "data": {
      "text/plain": [
       "0    0.616162\n",
       "1    0.383838\n",
       "Name: Survived, dtype: float64"
      ]
     },
     "execution_count": 155,
     "metadata": {},
     "output_type": "execute_result"
    }
   ],
   "source": [
    "data['Survived'].value_counts(normalize=True)"
   ]
  },
  {
   "cell_type": "raw",
   "metadata": {},
   "source": [
    "We want to know what percentage of the whole is for each value that appears in the column. For example, if we took the two counts above, 549 and 342 and we sum them up, we'd get 891. So, what percentage of people on the titanic were Survived. The calculation is 0.616162 x 100% = 61.16%."
   ]
  },
  {
   "cell_type": "code",
   "execution_count": 156,
   "metadata": {
    "colab": {},
    "colab_type": "code",
    "id": "IwCckUJdHFdS"
   },
   "outputs": [],
   "source": [
    "############################\n",
    "# عليك تعديل هذه الخانة قبل تسليم المشروع\n",
    "# YOU HAVE TO EDIT THIS CELLL\n",
    "############################\n",
    "\n",
    "survived_percentage = 61.16"
   ]
  },
  {
   "cell_type": "code",
   "execution_count": 157,
   "metadata": {
    "colab": {},
    "colab_type": "code",
    "id": "uzX2JP92HFdo",
    "outputId": "a42779bc-e734-4819-e7b0-84cfe4c0144c"
   },
   "outputs": [
    {
     "name": "stdout",
     "output_type": "stream",
     "text": [
      "About 61.16% of people in this dataset have survived\n"
     ]
    }
   ],
   "source": [
    "print('About {0}% of people in this dataset have survived'.format(np.round(survived_percentage, 2)))"
   ]
  },
  {
   "cell_type": "markdown",
   "metadata": {},
   "source": [
    "<div style=\"direction:rtl; text-align:right\">\n",
    "ونستطيع فعل الأمر مع الأعمدة المختلفة:"
   ]
  },
  {
   "cell_type": "code",
   "execution_count": 158,
   "metadata": {
    "colab": {},
    "colab_type": "code",
    "id": "IU-3_m6CHFd2",
    "outputId": "c0a23676-3e16-4ce2-84c5-b92214df9f93"
   },
   "outputs": [
    {
     "data": {
      "text/plain": [
       "3    491\n",
       "1    216\n",
       "2    184\n",
       "Name: Pclass, dtype: int64"
      ]
     },
     "execution_count": 158,
     "metadata": {},
     "output_type": "execute_result"
    }
   ],
   "source": [
    "data['Pclass'].value_counts()"
   ]
  },
  {
   "cell_type": "code",
   "execution_count": 159,
   "metadata": {
    "colab": {},
    "colab_type": "code",
    "id": "uolo4K2jHFeA",
    "outputId": "6cf23684-d969-46fa-bab2-3cb586531ba5"
   },
   "outputs": [
    {
     "data": {
      "text/plain": [
       "male      577\n",
       "female    314\n",
       "Name: Sex, dtype: int64"
      ]
     },
     "execution_count": 159,
     "metadata": {},
     "output_type": "execute_result"
    }
   ],
   "source": [
    "data['Sex'].value_counts()"
   ]
  },
  {
   "cell_type": "code",
   "execution_count": 160,
   "metadata": {
    "colab": {},
    "colab_type": "code",
    "id": "PevJXxtVHFeU",
    "outputId": "fd95f9f3-19ee-439f-8e74-0f82a1c8c521"
   },
   "outputs": [
    {
     "data": {
      "text/plain": [
       "0    678\n",
       "1    118\n",
       "2     80\n",
       "5      5\n",
       "3      5\n",
       "4      4\n",
       "6      1\n",
       "Name: Parch, dtype: int64"
      ]
     },
     "execution_count": 160,
     "metadata": {},
     "output_type": "execute_result"
    }
   ],
   "source": [
    "data['Parch'].value_counts()"
   ]
  },
  {
   "cell_type": "code",
   "execution_count": 161,
   "metadata": {
    "colab": {},
    "colab_type": "code",
    "id": "gkOvk9srHFec",
    "outputId": "be0853cf-d9ff-42da-b9db-be6c5fa23667"
   },
   "outputs": [
    {
     "data": {
      "text/plain": [
       "S    644\n",
       "C    168\n",
       "Q     77\n",
       "Name: Embarked, dtype: int64"
      ]
     },
     "execution_count": 161,
     "metadata": {},
     "output_type": "execute_result"
    }
   ],
   "source": [
    "data['Embarked'].value_counts()"
   ]
  },
  {
   "cell_type": "markdown",
   "metadata": {},
   "source": [
    "<div style=\"direction:rtl; text-align:right\">\n",
    "قم الآن بحساب نسبة الإناث الناجيات من إجمالي عدد الناجيين في الخانة التالية: "
   ]
  },
  {
   "cell_type": "code",
   "execution_count": 162,
   "metadata": {},
   "outputs": [
    {
     "data": {
      "text/plain": [
       "male      0.647587\n",
       "female    0.352413\n",
       "Name: Sex, dtype: float64"
      ]
     },
     "execution_count": 162,
     "metadata": {},
     "output_type": "execute_result"
    }
   ],
   "source": [
    "data['Sex'].value_counts(normalize=True)"
   ]
  },
  {
   "cell_type": "raw",
   "metadata": {},
   "source": [
    "The percentage of people on the titanic were female. The calculation is 0.352413 x 100% = 35.24%."
   ]
  },
  {
   "cell_type": "code",
   "execution_count": 163,
   "metadata": {},
   "outputs": [],
   "source": [
    "############################\n",
    "# عليك تعديل هذه الخانة قبل تسليم المشروع\n",
    "# YOU HAVE TO EDIT THIS CELLL\n",
    "############################\n",
    "\n",
    "\n",
    "female_survived_percentage = 35.24"
   ]
  },
  {
   "cell_type": "markdown",
   "metadata": {
    "colab_type": "text",
    "id": "jUizOw3gHFei"
   },
   "source": [
    "<div style=\"direction:rtl; text-align:right\">\n",
    "\n",
    "# معلومات بغرض التصحيح"
   ]
  },
  {
   "cell_type": "code",
   "execution_count": 164,
   "metadata": {
    "colab": {},
    "colab_type": "code",
    "id": "KS1nzVFDHFej"
   },
   "outputs": [
    {
     "name": "stdout",
     "output_type": "stream",
     "text": [
      "nrows=891\n",
      "ncols=12\n",
      "n_num_cols=7\n",
      "n_str_cols=5\n",
      "final_column_set=['Survived', 'Pclass', 'Sex', 'Age', 'SibSp', 'Parch', 'Fare', 'Cabin', 'Embarked']\n",
      "cols_with_missing_vals=[PassengerId    False\n",
      "Survived       False\n",
      "Pclass         False\n",
      "Name           False\n",
      "Sex            False\n",
      "Age             True\n",
      "SibSp          False\n",
      "Parch          False\n",
      "Ticket         False\n",
      "Fare           False\n",
      "Cabin           True\n",
      "Embarked        True\n",
      "dtype: bool]\n",
      "mean_age=29.69911764705882\n",
      "survived_percentage=61.16\n",
      "female_survived_percentage=35.24\n"
     ]
    }
   ],
   "source": [
    "print('nrows={}\\nncols={}\\nn_num_cols={}\\nn_str_cols={}\\nfinal_column_set={}\\ncols_with_missing_vals={}\\nmean_age={}\\nsurvived_percentage={}\\nfemale_survived_percentage={}'.format(\n",
    "nrows,\n",
    "ncols,\n",
    "n_num_cols,\n",
    "n_str_cols,\n",
    "final_column_set,\n",
    "cols_with_missing_vals,\n",
    "mean_age,\n",
    "survived_percentage,\n",
    "female_survived_percentage\n",
    "))\n"
   ]
  },
  {
   "cell_type": "markdown",
   "metadata": {},
   "source": [
    "<div style=\"direction:rtl; text-align:right\">\n",
    "والآن يمكنك القيام بتسليم المشروع."
   ]
  },
  {
   "cell_type": "markdown",
   "metadata": {},
   "source": [
    "<div style=\"direction:rtl; text-align:right\">\n",
    "هذه لم تكن سوى جولة سريعة للتعرف على بيانات التايتانك بشكل سريع. بالطبع، إذا كنت تريد اكتشاف المزيد مما يمكن فعله بهذه البيانات فهناك عدد هائل من الدروس على الانترنت ندعوكم للاطلاع عليها مثل هذا الدرس:"
   ]
  },
  {
   "cell_type": "markdown",
   "metadata": {
    "colab_type": "text",
    "id": "0T2Ievh9HFep"
   },
   "source": [
    "- https://www.kaggle.com/sherylee/a-comprehensive-ml-workflow-with-python"
   ]
  },
  {
   "cell_type": "code",
   "execution_count": null,
   "metadata": {},
   "outputs": [],
   "source": []
  }
 ],
 "metadata": {
  "colab": {
   "name": "Project 1 - Titanic.ipynb",
   "provenance": [],
   "version": "0.3.2"
  },
  "kernelspec": {
   "display_name": "Python 3",
   "language": "python",
   "name": "python3"
  },
  "language_info": {
   "codemirror_mode": {
    "name": "ipython",
    "version": 3
   },
   "file_extension": ".py",
   "mimetype": "text/x-python",
   "name": "python",
   "nbconvert_exporter": "python",
   "pygments_lexer": "ipython3",
   "version": "3.7.6"
  }
 },
 "nbformat": 4,
 "nbformat_minor": 1
}
